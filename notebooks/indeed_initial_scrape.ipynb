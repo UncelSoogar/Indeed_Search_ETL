{
 "cells": [
  {
   "cell_type": "code",
   "execution_count": 1,
   "metadata": {},
   "outputs": [],
   "source": [
    "#Dependencies\n",
    "import pandas as pd\n",
    "from datetime import datetime, timedelta\n",
    "from bs4 import BeautifulSoup\n",
    "import requests\n",
    "from splinter import Browser"
   ]
  },
  {
   "cell_type": "code",
   "execution_count": 2,
   "metadata": {},
   "outputs": [],
   "source": [
    "#Initialize browser\n",
    "#Change chromedriver path when uploading to server\n",
    "\n",
    "executable_path = {'executable_path': r\"C:\\Users\\slapp\\Desktop\\Misc_class\\chromedriver.exe\"}\n",
    "browser = Browser('chrome', **executable_path, headless=False)\n"
   ]
  },
  {
   "cell_type": "code",
   "execution_count": 4,
   "metadata": {},
   "outputs": [],
   "source": [
    "#define initial url and direct browser\n",
    "url = 'https://www.indeed.com/jobs?q=Data+Scientist&explvl=entry_level&fromage=3'\n",
    "browser.visit(url)"
   ]
  },
  {
   "cell_type": "code",
   "execution_count": 5,
   "metadata": {},
   "outputs": [],
   "source": [
    "#Make some soup\n",
    "html = browser.html\n",
    "soup = BeautifulSoup(html, 'lxml')\n",
    "browser.quit()"
   ]
  },
  {
   "cell_type": "code",
   "execution_count": 6,
   "metadata": {},
   "outputs": [],
   "source": [
    "#Scrap all postings on page into a list. Run through loop to click on next page\n",
    "postings = soup.find_all( class_= 'jobsearch-SerpJobCard')"
   ]
  },
  {
   "cell_type": "code",
   "execution_count": 7,
   "metadata": {},
   "outputs": [
    {
     "data": {
      "text/plain": [
       "<div class=\"jobsearch-SerpJobCard unifiedRow row result clickcard\" data-ci=\"133697537\" data-empn=\"377656857425241\" data-jk=\"00ba1a22ba67ffd2\" id=\"pj_00ba1a22ba67ffd2\">\n",
       "<style>\n",
       ".jobcard_logo{margin:6px 0}.jobcard_logo img{width:auto;max-width:80px;max-height:30px}\n",
       "</style>\n",
       "<h2 class=\"title\">\n",
       "<a class=\"jobtitle turnstileLink\" data-tn-element=\"jobTitle\" href=\"/pagead/clk?mo=r&amp;ad=-6NYlbfkN0D3UvD5kBSgX9r9tFJCI4OL-41vvae__bcle4uMSq30h36AcPbHjl9bcVWQE4zSRT4EOgpM6LkPra63lxoEtVae-7wD-oUwUbBd1OZLV0EDBfVsDapnyVIX5sAVVSZi1JFDgw1-QU0Z_6h_hb3hkF0kGSe2adBRcLe-9dykDVUwA9_LgUuV-p7vSPZG1PunCyO5w1fAvs1ggIIq2mkPEYgnJVlrQ5CLibY1nFSKM6cLiGCUEGNpg2leVcuCMiaeOYUhdvWHD5XjfIsHzF_-MsvEhTLcDZMXY-fSUjHJnVgwdBz4VJgRccTLSYTpL8y9bqu_ylkdvGE7w8j9vlvg8WPFLXshv8rJhlMghplOqgUPVhUCAfGQj7hYnqNQo4l3nAzbxahAChY0jXXSMGDzm7_IAGyMh5-E9gBx9Am2kxLjk5QvFByJL7GW53aZJ3TS_gdDwwwyCwjQl6TrCpzOg3jPdHxYO4RHb1QDZ3-JeMd4GG0aFT_qnVxaR-Hok_cr4eN-bTgyVtMm5iUYAcGMa0dNmZqs3Ew7w1DFSVTl6rPCqdw3HdARnCg5B6lP4i9CSFw=&amp;p=0&amp;fvj=0&amp;vjs=3\" id=\"sja0\" onclick=\"setRefineByCookie(['explvl']); sjoc('sja0', 1); convCtr('SJ'); rclk(this,jobmap[0],true,1);\" onmousedown=\"sjomd('sja0'); clk('sja0'); rclk(this,jobmap[0],1);\" rel=\"noopener nofollow\" target=\"_blank\" title=\"Data Scientist -\">\n",
       "<b>Data</b> <b>Scientist</b> -</a>\n",
       "<span class=\"new\">new</span></h2>\n",
       "<div class=\"sjcl\">\n",
       "<div>\n",
       "<span class=\"company\">\n",
       "Blue Owl</span>\n",
       "</div>\n",
       "<div class=\"recJobLoc\" data-rc-loc=\"San Francisco, CA\" id=\"recJobLoc_00ba1a22ba67ffd2\" style=\"display: none\"></div>\n",
       "<div class=\"location accessible-contrast-color-location\">San Francisco, CA</div>\n",
       "</div>\n",
       "<div class=\"salarySnippet holisticSalary\">\n",
       "<span class=\"salary no-wrap\">\n",
       "<span class=\"salaryText\">\n",
       "$250,000 - $375,000 a year</span>\n",
       "</span>\n",
       "</div>\n",
       "<div class=\"summary\">\n",
       "<ul style=\"list-style-type:circle;margin-top: 0px;margin-bottom: 0px;padding-left:20px;\">\n",
       "<li>We’re using rich customer insights, advanced technology and <b>data</b> science to build our cloud-native InsurTech solution.</li>\n",
       "</ul></div>\n",
       "<div class=\"jobsearch-SerpJobCard-footer\">\n",
       "<div class=\"jobsearch-SerpJobCard-footerActions\">\n",
       "<div class=\"result-link-bar-container\">\n",
       "<div class=\"result-link-bar\"><span class=\"date\">1 day ago</span><span class=\"tt_set\" id=\"tt_set_0\"><div class=\"job-reaction\"><span aria-expanded=\"false\" aria-haspopup=\"true\" aria-label=\"save or dislike\" class=\"job-reaction-kebab\" data-ol-has-click-handler=\"\" onclick=\"toggleKebabMenu('00ba1a22ba67ffd2', true, event); return false;\" role=\"button\" tabindex=\"0\"></span><span class=\"job-reaction-kebab-menu\"><a class=\"job-reaction-kebab-item job-reaction-save\" data-ol-has-click-handler=\"\" href=\"#\" onclick=\"changeJobState('00ba1a22ba67ffd2', 'save', 'linkbar', true, '');return false;\"><svg focusable=\"false\" height=\"16\" viewbox=\"0 0 24 24\" width=\"16\"><g><path d=\"M16.5,3A6,6,0,0,0,12,5.09,6,6,0,0,0,7.5,3,5.45,5.45,0,0,0,2,8.5C2,12.28,5.4,15.36,10.55,20L12,21.35,13.45,20C18.6,15.36,22,12.28,22,8.5A5.45,5.45,0,0,0,16.5,3ZM12.1,18.55l-0.1.1-0.1-.1C7.14,14.24,4,11.39,4,8.5A3.42,3.42,0,0,1,7.5,5a3.91,3.91,0,0,1,3.57,2.36h1.87A3.88,3.88,0,0,1,16.5,5,3.42,3.42,0,0,1,20,8.5C20,11.39,16.86,14.24,12.1,18.55Z\" fill=\"#2d2d2d\"></path></g></svg><span class=\"job-reaction-kebab-item-text\">Save job</span></a><a class=\"job-reaction-kebab-item job-reaction-dislike\" data-ol-has-click-handler=\"\" href=\"#\" onclick=\"dislikeJob(false, false, '00ba1a22ba67ffd2', 'unsave', 'linkbar', true, ''); return false;\"><span class=\"job-reaction-dislike-icon\"></span><span class=\"job-reaction-kebab-item-text\">Not interested</span></a></span></div><span class=\"result-link-bar-separator\">·</span><a class=\"sl resultLink save-job-link\" href=\"#\" id=\"sj_00ba1a22ba67ffd2\" onclick=\"changeJobState('00ba1a22ba67ffd2', 'save', 'linkbar', true, ''); return false;\" title=\"Save this job to my.indeed\">Save job</a></span><div class=\"edit_note_content\" id=\"editsaved2_00ba1a22ba67ffd2\" style=\"display:none;\"></div><script>if (!window['sj_result_00ba1a22ba67ffd2']) {window['sj_result_00ba1a22ba67ffd2'] = {};}window['sj_result_00ba1a22ba67ffd2']['showSource'] = false; window['sj_result_00ba1a22ba67ffd2']['source'] = \"Blue Owl\"; window['sj_result_00ba1a22ba67ffd2']['loggedIn'] = false; window['sj_result_00ba1a22ba67ffd2']['showMyJobsLinks'] = false;window['sj_result_00ba1a22ba67ffd2']['undoAction'] = \"unsave\";window['sj_result_00ba1a22ba67ffd2']['relativeJobAge'] = \"1 day ago\";window['sj_result_00ba1a22ba67ffd2']['jobKey'] = \"00ba1a22ba67ffd2\"; window['sj_result_00ba1a22ba67ffd2']['myIndeedAvailable'] = true; window['sj_result_00ba1a22ba67ffd2']['showMoreActionsLink'] = window['sj_result_00ba1a22ba67ffd2']['showMoreActionsLink'] || false; window['sj_result_00ba1a22ba67ffd2']['resultNumber'] = 0; window['sj_result_00ba1a22ba67ffd2']['jobStateChangedToSaved'] = false; window['sj_result_00ba1a22ba67ffd2']['searchState'] = \"q=Data Scientist&amp;fromage=3\"; window['sj_result_00ba1a22ba67ffd2']['basicPermaLink'] = \"https://www.indeed.com\"; window['sj_result_00ba1a22ba67ffd2']['saveJobFailed'] = false; window['sj_result_00ba1a22ba67ffd2']['removeJobFailed'] = false; window['sj_result_00ba1a22ba67ffd2']['requestPending'] = false; window['sj_result_00ba1a22ba67ffd2']['notesEnabled'] = false; window['sj_result_00ba1a22ba67ffd2']['currentPage'] = \"serp\"; window['sj_result_00ba1a22ba67ffd2']['sponsored'] = true;window['sj_result_00ba1a22ba67ffd2']['reportJobButtonEnabled'] = false; window['sj_result_00ba1a22ba67ffd2']['showMyJobsHired'] = false; window['sj_result_00ba1a22ba67ffd2']['showSaveForSponsored'] = true; window['sj_result_00ba1a22ba67ffd2']['showJobAge'] = true; window['sj_result_00ba1a22ba67ffd2']['showHolisticCard'] = true; window['sj_result_00ba1a22ba67ffd2']['showDislike'] = true; window['sj_result_00ba1a22ba67ffd2']['showKebab'] = true;</script></div></div>\n",
       "</div>\n",
       "</div>\n",
       "<div class=\"tab-container\">\n",
       "<div class=\"sign-in-container result-tab\"></div>\n",
       "<div class=\"tellafriend-container result-tab email_job_content\"></div>\n",
       "</div>\n",
       "</div>"
      ]
     },
     "execution_count": 7,
     "metadata": {},
     "output_type": "execute_result"
    }
   ],
   "source": [
    "postings[0]"
   ]
  },
  {
   "cell_type": "code",
   "execution_count": 8,
   "metadata": {},
   "outputs": [
    {
     "data": {
      "text/plain": [
       "14"
      ]
     },
     "execution_count": 8,
     "metadata": {},
     "output_type": "execute_result"
    }
   ],
   "source": [
    "len(postings)"
   ]
  },
  {
   "cell_type": "code",
   "execution_count": 9,
   "metadata": {},
   "outputs": [
    {
     "data": {
      "text/plain": [
       "'https://www.indeed.com/pagead/clk?mo=r&ad=-6NYlbfkN0D3UvD5kBSgX9r9tFJCI4OL-41vvae__bcle4uMSq30h36AcPbHjl9bcVWQE4zSRT4EOgpM6LkPra63lxoEtVae-7wD-oUwUbBd1OZLV0EDBfVsDapnyVIX5sAVVSZi1JFDgw1-QU0Z_6h_hb3hkF0kGSe2adBRcLe-9dykDVUwA9_LgUuV-p7vSPZG1PunCyO5w1fAvs1ggIIq2mkPEYgnJVlrQ5CLibY1nFSKM6cLiGCUEGNpg2leVcuCMiaeOYUhdvWHD5XjfIsHzF_-MsvEhTLcDZMXY-fSUjHJnVgwdBz4VJgRccTLSYTpL8y9bqu_ylkdvGE7w8j9vlvg8WPFLXshv8rJhlMghplOqgUPVhUCAfGQj7hYnqNQo4l3nAzbxahAChY0jXXSMGDzm7_IAGyMh5-E9gBx9Am2kxLjk5QvFByJL7GW53aZJ3TS_gdDwwwyCwjQl6TrCpzOg3jPdHxYO4RHb1QDZ3-JeMd4GG0aFT_qnVxaR-Hok_cr4eN-bTgyVtMm5iUYAcGMa0dNmZqs3Ew7w1DFSVTl6rPCqdw3HdARnCg5B6lP4i9CSFw=&p=0&fvj=0&vjs=3'"
      ]
     },
     "execution_count": 9,
     "metadata": {},
     "output_type": "execute_result"
    }
   ],
   "source": [
    "#Scrape url and add domaine\n",
    "f\"https://www.indeed.com{postings[0].find('h2').find(class_ = 'jobtitle')['href']}\"\n"
   ]
  },
  {
   "cell_type": "code",
   "execution_count": 10,
   "metadata": {},
   "outputs": [
    {
     "data": {
      "text/plain": [
       "'Data Scientist -'"
      ]
     },
     "execution_count": 10,
     "metadata": {},
     "output_type": "execute_result"
    }
   ],
   "source": [
    "#Scrape job title\n",
    "postings[0].find('h2').find(class_ = 'jobtitle').text.replace('\\n', '')\n"
   ]
  },
  {
   "cell_type": "code",
   "execution_count": 11,
   "metadata": {},
   "outputs": [
    {
     "data": {
      "text/plain": [
       "'Blue Owl'"
      ]
     },
     "execution_count": 11,
     "metadata": {},
     "output_type": "execute_result"
    }
   ],
   "source": [
    "#scrape company name\n",
    "postings[0].find(class_ = 'company').text.replace('\\n', '')"
   ]
  },
  {
   "cell_type": "code",
   "execution_count": 12,
   "metadata": {},
   "outputs": [],
   "source": [
    "#scrape location (split into city and state later)\n",
    "location = postings[0].find(class_ = 'recJobLoc')['data-rc-loc']"
   ]
  },
  {
   "cell_type": "code",
   "execution_count": 13,
   "metadata": {},
   "outputs": [],
   "source": [
    "#splitting location into city and state. try except to include remote work\n",
    "cities = []\n",
    "states = []\n",
    "for x in range(0, len(location)):\n",
    "    citystate = location[x].split(', ')\n",
    "    cities.append(citystate[0])\n",
    "    try:\n",
    "        states.append(citystate[1])\n",
    "    except IndexError:\n",
    "        states.append(citystate[0])\n",
    "    #print(cities[x] + states[x])"
   ]
  },
  {
   "cell_type": "code",
   "execution_count": 14,
   "metadata": {},
   "outputs": [
    {
     "data": {
      "text/plain": [
       "'1 day ago'"
      ]
     },
     "execution_count": 14,
     "metadata": {},
     "output_type": "execute_result"
    }
   ],
   "source": [
    "#scrape date added (current day - \"days posted ago\")\n",
    "postings[0].find(class_='date').text"
   ]
  },
  {
   "cell_type": "code",
   "execution_count": 15,
   "metadata": {},
   "outputs": [],
   "source": [
    "#Convert result to int\n",
    "try:\n",
    "    testdate = int(postings[0].find(class_='date').text.split(' ')[0])\n",
    "except ValueError:\n",
    "    testdate = 0"
   ]
  },
  {
   "cell_type": "code",
   "execution_count": 16,
   "metadata": {},
   "outputs": [
    {
     "data": {
      "text/plain": [
       "datetime.datetime(2020, 6, 23, 12, 13, 22, 930448)"
      ]
     },
     "execution_count": 16,
     "metadata": {},
     "output_type": "execute_result"
    }
   ],
   "source": [
    "#subtract from current date w/ date time\n",
    "d = datetime.today() - timedelta(days=testdate)\n",
    "d"
   ]
  },
  {
   "cell_type": "code",
   "execution_count": 17,
   "metadata": {},
   "outputs": [
    {
     "data": {
      "text/plain": [
       "['NaN']"
      ]
     },
     "execution_count": 17,
     "metadata": {},
     "output_type": "execute_result"
    }
   ],
   "source": [
    "#scrape salary, add null if not included\n",
    "salaryrange = []\n",
    "try:\n",
    "    salaryrange.append(postings[1].find(class_ = 'salaryText').text.replace('\\n', ''))\n",
    "except AttributeError:\n",
    "    salaryrange.append('NaN')\n",
    "salaryrange"
   ]
  },
  {
   "cell_type": "code",
   "execution_count": 26,
   "metadata": {},
   "outputs": [
    {
     "data": {
      "text/plain": [
       "'Collaborate and consult with data scientists and subject-area experts on statistics and data analytics problems. Highly skilled in R or Python.'"
      ]
     },
     "execution_count": 26,
     "metadata": {},
     "output_type": "execute_result"
    }
   ],
   "source": [
    "#scrape job abstract\n",
    "postings[11].find(class_ = 'summary').text.strip().replace('\\n', ' ')"
   ]
  },
  {
   "cell_type": "code",
   "execution_count": 27,
   "metadata": {},
   "outputs": [],
   "source": [
    "#Collect all above data for each entry with a loop\n",
    "post_url = []\n",
    "job_title = []\n",
    "company = [] \n",
    "city = []\n",
    "state = []\n",
    "date_added = []\n",
    "salaryrange = []\n",
    "abstract = []\n",
    "\n",
    "        \n",
    "for x in range(0, len(postings)):\n",
    "    post_url.append(f\"https://www.indeed.com{postings[x].find('h2').find(class_ = 'jobtitle')['href']}\")\n",
    "    job_title.append(postings[x].find('h2').find(class_ = 'jobtitle').text.replace('\\n', ''))\n",
    "    company.append(postings[x].find(class_ = 'company').text.replace('\\n', ''))\n",
    "    location = postings[x].find(class_ = 'recJobLoc')['data-rc-loc'].split(', ')\n",
    "    city.append(location[0])\n",
    "    try:\n",
    "        state.append(location[1])\n",
    "    except IndexError:\n",
    "        state.append(location[0])\n",
    "    try:\n",
    "        temp_date = int(postings[x].find(class_='date').text.split(' ')[0])\n",
    "    except ValueError:\n",
    "        temp_date = 0\n",
    "    date_added.append(datetime.today() - timedelta(days=testdate))\n",
    "    try:\n",
    "        salaryrange.append(postings[x].find(class_ = 'salaryText').text.replace('\\n', ''))\n",
    "    except AttributeError:\n",
    "        salaryrange.append('NaN')\n",
    "    abstract.append(postings[x].find(class_ = 'summary').text.strip().replace('\\n', ' '))"
   ]
  },
  {
   "cell_type": "code",
   "execution_count": 28,
   "metadata": {},
   "outputs": [
    {
     "data": {
      "text/plain": [
       "['We’re using rich customer insights, advanced technology and data science to build our cloud-native InsurTech solution.',\n",
       " 'Experience with some machine learning methodologies such as Neural Networks, SVM, Random Forest, Natural Language Processing. Job Types: Full-time, Contract.',\n",
       " 'Study Preparation: Meets with CRA, R&D, Instrumentation scientists, department data collection programmers, and data entry to find the best way of capturing the…',\n",
       " 'The RiceTec Data Scientist will need to Design strategies and implement algorithms to analyze and leverage data; assessing the effectiveness and accuracy of…',\n",
       " 'Demonstrated experience and familiarity in working with 3-D geospatial data, data registration and big data analysis. Publish and present research results.',\n",
       " 'Address machine learning problems around recommendation engines, possibly using methods including tensor factorization, auto encoders, temporal models, deep…',\n",
       " 'Provide data modeling, mining, pattern analysis, data visualization and machine learning solutions to address customer and internal needs.',\n",
       " 'Competitive salary, health insurance, and retirement match. Some knowledge of machine learning models and how to run them in the wild.',\n",
       " 'Has experience working in data science and machine learning related roles or projects, or have taken courses in data science and machine learning.',\n",
       " 'We’re using rich customer insights, advanced technology and data science to build our cloud-native InsurTech solution.',\n",
       " 'Job Description: Create an ensemble architecture comprising of machine learning models using Python (Support Vector Machine, Random Forest, Decision Trees),…',\n",
       " 'Collaborate and consult with data scientists and subject-area experts on statistics and data analytics problems. Highly skilled in R or Python.',\n",
       " 'Extracting and manipulating data from cloud data warehouses using Snowflake SQL or Google BigQuery. Develop and support machine-learning models (naïve Bayes,…',\n",
       " 'Integrates subject matter and industry expertise within a defined area. Conducts data analysis, data mining, read and create formal statistical documentation,…']"
      ]
     },
     "execution_count": 28,
     "metadata": {},
     "output_type": "execute_result"
    }
   ],
   "source": [
    "abstract"
   ]
  },
  {
   "cell_type": "code",
   "execution_count": 44,
   "metadata": {},
   "outputs": [],
   "source": [
    "#loop through pages\n",
    "base_url = 'https://www.indeed.com/jobs?q=Data+Scientist&explvl=entry_level&fromage=3&start='\n",
    "post_url = []\n",
    "job_title = []\n",
    "company = [] \n",
    "city = []\n",
    "state = []\n",
    "date_added = []\n",
    "salaryrange = []\n",
    "abstract = []\n",
    "\n",
    "\n",
    "for x in range(0, 100, 10):\n",
    "    test_url = f\"{base_url}{x}\"\n",
    "    page = requests.get(test_url).content\n",
    "    soup = BeautifulSoup(page)\n",
    "    for x in range(0, len(postings)):\n",
    "        post_url.append(f\"https://www.indeed.com{postings[x].find('h2').find(class_ = 'jobtitle')['href']}\")\n",
    "        job_title.append(postings[x].find('h2').find(class_ = 'jobtitle').text.replace('\\n', ''))\n",
    "        company.append(postings[x].find(class_ = 'company').text.replace('\\n', ''))\n",
    "        location = postings[x].find(class_ = 'recJobLoc')['data-rc-loc'].split(', ')\n",
    "        city.append(location[0])\n",
    "        try:\n",
    "            state.append(location[1])\n",
    "        except IndexError:\n",
    "            state.append(location[0])\n",
    "        try:\n",
    "            temp_date = int(postings[x].find(class_='date').text.split(' ')[0])\n",
    "        except ValueError:\n",
    "            temp_date = 0\n",
    "        date_added.append(datetime.today() - timedelta(days=testdate))\n",
    "        try:\n",
    "            salaryrange.append(postings[x].find(class_ = 'salaryText').text.replace('\\n', ''))\n",
    "        except AttributeError:\n",
    "            salaryrange.append('NaN')\n",
    "        abstract.append(postings[x].find(class_ = 'summary').text.strip().replace('\\n', ' '))\n",
    "\n"
   ]
  },
  {
   "cell_type": "code",
   "execution_count": 45,
   "metadata": {},
   "outputs": [
    {
     "data": {
      "text/html": [
       "<div>\n",
       "<style scoped>\n",
       "    .dataframe tbody tr th:only-of-type {\n",
       "        vertical-align: middle;\n",
       "    }\n",
       "\n",
       "    .dataframe tbody tr th {\n",
       "        vertical-align: top;\n",
       "    }\n",
       "\n",
       "    .dataframe thead th {\n",
       "        text-align: right;\n",
       "    }\n",
       "</style>\n",
       "<table border=\"1\" class=\"dataframe\">\n",
       "  <thead>\n",
       "    <tr style=\"text-align: right;\">\n",
       "      <th></th>\n",
       "      <th>post_url</th>\n",
       "      <th>job_title</th>\n",
       "      <th>company</th>\n",
       "      <th>city</th>\n",
       "      <th>state</th>\n",
       "      <th>date_added</th>\n",
       "      <th>salary_range</th>\n",
       "      <th>abstract</th>\n",
       "    </tr>\n",
       "  </thead>\n",
       "  <tbody>\n",
       "    <tr>\n",
       "      <td>125</td>\n",
       "      <td>https://www.indeed.com/pagead/clk?mo=r&amp;ad=-6NY...</td>\n",
       "      <td>AVP, AML Statistician - Scenario Development R...</td>\n",
       "      <td>Citi</td>\n",
       "      <td>Tampa</td>\n",
       "      <td>FL</td>\n",
       "      <td>2020-06-23 13:00:14.059926</td>\n",
       "      <td>NaN</td>\n",
       "      <td>Integrates subject matter and industry experti...</td>\n",
       "    </tr>\n",
       "    <tr>\n",
       "      <td>126</td>\n",
       "      <td>https://www.indeed.com/pagead/clk?mo=r&amp;ad=-6NY...</td>\n",
       "      <td>Data Scientist -</td>\n",
       "      <td>Blue Owl</td>\n",
       "      <td>San Francisco</td>\n",
       "      <td>CA</td>\n",
       "      <td>2020-06-23 13:00:14.794885</td>\n",
       "      <td>$250,000 - $375,000 a year</td>\n",
       "      <td>We’re using rich customer insights, advanced t...</td>\n",
       "    </tr>\n",
       "    <tr>\n",
       "      <td>127</td>\n",
       "      <td>https://www.indeed.com/pagead/clk?mo=r&amp;ad=-6NY...</td>\n",
       "      <td>Data Scientist</td>\n",
       "      <td>ClientSolv Technologies</td>\n",
       "      <td>Englewood</td>\n",
       "      <td>CO</td>\n",
       "      <td>2020-06-23 13:00:14.796878</td>\n",
       "      <td>NaN</td>\n",
       "      <td>Experience with some machine learning methodol...</td>\n",
       "    </tr>\n",
       "    <tr>\n",
       "      <td>128</td>\n",
       "      <td>https://www.indeed.com/pagead/clk?mo=r&amp;ad=-6NY...</td>\n",
       "      <td>Statistician II</td>\n",
       "      <td>Aerotek</td>\n",
       "      <td>North Chicago</td>\n",
       "      <td>IL</td>\n",
       "      <td>2020-06-23 13:00:14.798874</td>\n",
       "      <td>NaN</td>\n",
       "      <td>Study Preparation: Meets with CRA, R&amp;D, Instru...</td>\n",
       "    </tr>\n",
       "    <tr>\n",
       "      <td>129</td>\n",
       "      <td>https://www.indeed.com/rc/clk?jk=bddcb1faeb174...</td>\n",
       "      <td>Data Scientist - Production Research</td>\n",
       "      <td>RiceTec, Inc.</td>\n",
       "      <td>Alvin</td>\n",
       "      <td>TX</td>\n",
       "      <td>2020-06-23 13:00:14.800868</td>\n",
       "      <td>NaN</td>\n",
       "      <td>The RiceTec Data Scientist will need to Design...</td>\n",
       "    </tr>\n",
       "    <tr>\n",
       "      <td>130</td>\n",
       "      <td>https://www.indeed.com/rc/clk?jk=85cc3860e666f...</td>\n",
       "      <td>Remote Sensing Data Scientist</td>\n",
       "      <td>University of Texas at Austin</td>\n",
       "      <td>Austin</td>\n",
       "      <td>TX</td>\n",
       "      <td>2020-06-23 13:00:14.803860</td>\n",
       "      <td>NaN</td>\n",
       "      <td>Demonstrated experience and familiarity in wor...</td>\n",
       "    </tr>\n",
       "    <tr>\n",
       "      <td>131</td>\n",
       "      <td>https://www.indeed.com/rc/clk?jk=d9b4bd00ee543...</td>\n",
       "      <td>Data Scientist - Shop Recommendations</td>\n",
       "      <td>Stitch Fix</td>\n",
       "      <td>San Francisco</td>\n",
       "      <td>CA</td>\n",
       "      <td>2020-06-23 13:00:14.806852</td>\n",
       "      <td>NaN</td>\n",
       "      <td>Address machine learning problems around recom...</td>\n",
       "    </tr>\n",
       "    <tr>\n",
       "      <td>132</td>\n",
       "      <td>https://www.indeed.com/company/Farm-Journal/jo...</td>\n",
       "      <td>Data Scientist</td>\n",
       "      <td>Farm Journal</td>\n",
       "      <td>Chicago</td>\n",
       "      <td>IL</td>\n",
       "      <td>2020-06-23 13:00:14.809844</td>\n",
       "      <td>NaN</td>\n",
       "      <td>Provide data modeling, mining, pattern analysi...</td>\n",
       "    </tr>\n",
       "    <tr>\n",
       "      <td>133</td>\n",
       "      <td>https://www.indeed.com/company/Methods-Consult...</td>\n",
       "      <td>Assistant Data Scientist</td>\n",
       "      <td>Methods Consultants</td>\n",
       "      <td>Ypsilanti</td>\n",
       "      <td>MI</td>\n",
       "      <td>2020-06-23 13:00:14.811838</td>\n",
       "      <td>NaN</td>\n",
       "      <td>Competitive salary, health insurance, and reti...</td>\n",
       "    </tr>\n",
       "    <tr>\n",
       "      <td>134</td>\n",
       "      <td>https://www.indeed.com/company/Altversity/jobs...</td>\n",
       "      <td>Data Science &amp; Machine Learning Research Intern</td>\n",
       "      <td>Altversity</td>\n",
       "      <td>New York</td>\n",
       "      <td>NY</td>\n",
       "      <td>2020-06-23 13:00:14.814830</td>\n",
       "      <td>NaN</td>\n",
       "      <td>Has experience working in data science and mac...</td>\n",
       "    </tr>\n",
       "    <tr>\n",
       "      <td>135</td>\n",
       "      <td>https://www.indeed.com/rc/clk?jk=00ba1a22ba67f...</td>\n",
       "      <td>Data Scientist -</td>\n",
       "      <td>Blue Owl</td>\n",
       "      <td>San Francisco</td>\n",
       "      <td>CA</td>\n",
       "      <td>2020-06-23 13:00:14.817837</td>\n",
       "      <td>$250,000 - $375,000 a year</td>\n",
       "      <td>We’re using rich customer insights, advanced t...</td>\n",
       "    </tr>\n",
       "    <tr>\n",
       "      <td>136</td>\n",
       "      <td>https://www.indeed.com/rc/clk?jk=817dc3c0efe2b...</td>\n",
       "      <td>Data Scientist</td>\n",
       "      <td>Incedo</td>\n",
       "      <td>United States</td>\n",
       "      <td>United States</td>\n",
       "      <td>2020-06-23 13:00:14.818942</td>\n",
       "      <td>NaN</td>\n",
       "      <td>Job Description: Create an ensemble architectu...</td>\n",
       "    </tr>\n",
       "    <tr>\n",
       "      <td>137</td>\n",
       "      <td>https://www.indeed.com/rc/clk?jk=af0e47caa27f2...</td>\n",
       "      <td>Data Analytics Statistician/Data Scientist</td>\n",
       "      <td>Lubrizol Corporation</td>\n",
       "      <td>Cleveland</td>\n",
       "      <td>OH</td>\n",
       "      <td>2020-06-23 13:00:14.820814</td>\n",
       "      <td>NaN</td>\n",
       "      <td>Collaborate and consult with data scientists a...</td>\n",
       "    </tr>\n",
       "    <tr>\n",
       "      <td>138</td>\n",
       "      <td>https://www.indeed.com/rc/clk?jk=eb34da934c628...</td>\n",
       "      <td>Applied Data Scientist and Statistician</td>\n",
       "      <td>Asics Digital</td>\n",
       "      <td>Boston</td>\n",
       "      <td>MA</td>\n",
       "      <td>2020-06-23 13:00:14.822809</td>\n",
       "      <td>NaN</td>\n",
       "      <td>Extracting and manipulating data from cloud da...</td>\n",
       "    </tr>\n",
       "    <tr>\n",
       "      <td>139</td>\n",
       "      <td>https://www.indeed.com/pagead/clk?mo=r&amp;ad=-6NY...</td>\n",
       "      <td>AVP, AML Statistician - Scenario Development R...</td>\n",
       "      <td>Citi</td>\n",
       "      <td>Tampa</td>\n",
       "      <td>FL</td>\n",
       "      <td>2020-06-23 13:00:14.826800</td>\n",
       "      <td>NaN</td>\n",
       "      <td>Integrates subject matter and industry experti...</td>\n",
       "    </tr>\n",
       "  </tbody>\n",
       "</table>\n",
       "</div>"
      ],
      "text/plain": [
       "                                              post_url  \\\n",
       "125  https://www.indeed.com/pagead/clk?mo=r&ad=-6NY...   \n",
       "126  https://www.indeed.com/pagead/clk?mo=r&ad=-6NY...   \n",
       "127  https://www.indeed.com/pagead/clk?mo=r&ad=-6NY...   \n",
       "128  https://www.indeed.com/pagead/clk?mo=r&ad=-6NY...   \n",
       "129  https://www.indeed.com/rc/clk?jk=bddcb1faeb174...   \n",
       "130  https://www.indeed.com/rc/clk?jk=85cc3860e666f...   \n",
       "131  https://www.indeed.com/rc/clk?jk=d9b4bd00ee543...   \n",
       "132  https://www.indeed.com/company/Farm-Journal/jo...   \n",
       "133  https://www.indeed.com/company/Methods-Consult...   \n",
       "134  https://www.indeed.com/company/Altversity/jobs...   \n",
       "135  https://www.indeed.com/rc/clk?jk=00ba1a22ba67f...   \n",
       "136  https://www.indeed.com/rc/clk?jk=817dc3c0efe2b...   \n",
       "137  https://www.indeed.com/rc/clk?jk=af0e47caa27f2...   \n",
       "138  https://www.indeed.com/rc/clk?jk=eb34da934c628...   \n",
       "139  https://www.indeed.com/pagead/clk?mo=r&ad=-6NY...   \n",
       "\n",
       "                                             job_title  \\\n",
       "125  AVP, AML Statistician - Scenario Development R...   \n",
       "126                                   Data Scientist -   \n",
       "127                                     Data Scientist   \n",
       "128                                    Statistician II   \n",
       "129               Data Scientist - Production Research   \n",
       "130                      Remote Sensing Data Scientist   \n",
       "131              Data Scientist - Shop Recommendations   \n",
       "132                                     Data Scientist   \n",
       "133                           Assistant Data Scientist   \n",
       "134    Data Science & Machine Learning Research Intern   \n",
       "135                                   Data Scientist -   \n",
       "136                                     Data Scientist   \n",
       "137         Data Analytics Statistician/Data Scientist   \n",
       "138            Applied Data Scientist and Statistician   \n",
       "139  AVP, AML Statistician - Scenario Development R...   \n",
       "\n",
       "                           company           city          state  \\\n",
       "125                           Citi          Tampa             FL   \n",
       "126                       Blue Owl  San Francisco             CA   \n",
       "127        ClientSolv Technologies      Englewood             CO   \n",
       "128                        Aerotek  North Chicago             IL   \n",
       "129                  RiceTec, Inc.          Alvin             TX   \n",
       "130  University of Texas at Austin         Austin             TX   \n",
       "131                     Stitch Fix  San Francisco             CA   \n",
       "132                   Farm Journal        Chicago             IL   \n",
       "133            Methods Consultants      Ypsilanti             MI   \n",
       "134                     Altversity       New York             NY   \n",
       "135                       Blue Owl  San Francisco             CA   \n",
       "136                         Incedo  United States  United States   \n",
       "137           Lubrizol Corporation      Cleveland             OH   \n",
       "138                  Asics Digital         Boston             MA   \n",
       "139                           Citi          Tampa             FL   \n",
       "\n",
       "                    date_added                salary_range  \\\n",
       "125 2020-06-23 13:00:14.059926                         NaN   \n",
       "126 2020-06-23 13:00:14.794885  $250,000 - $375,000 a year   \n",
       "127 2020-06-23 13:00:14.796878                         NaN   \n",
       "128 2020-06-23 13:00:14.798874                         NaN   \n",
       "129 2020-06-23 13:00:14.800868                         NaN   \n",
       "130 2020-06-23 13:00:14.803860                         NaN   \n",
       "131 2020-06-23 13:00:14.806852                         NaN   \n",
       "132 2020-06-23 13:00:14.809844                         NaN   \n",
       "133 2020-06-23 13:00:14.811838                         NaN   \n",
       "134 2020-06-23 13:00:14.814830                         NaN   \n",
       "135 2020-06-23 13:00:14.817837  $250,000 - $375,000 a year   \n",
       "136 2020-06-23 13:00:14.818942                         NaN   \n",
       "137 2020-06-23 13:00:14.820814                         NaN   \n",
       "138 2020-06-23 13:00:14.822809                         NaN   \n",
       "139 2020-06-23 13:00:14.826800                         NaN   \n",
       "\n",
       "                                              abstract  \n",
       "125  Integrates subject matter and industry experti...  \n",
       "126  We’re using rich customer insights, advanced t...  \n",
       "127  Experience with some machine learning methodol...  \n",
       "128  Study Preparation: Meets with CRA, R&D, Instru...  \n",
       "129  The RiceTec Data Scientist will need to Design...  \n",
       "130  Demonstrated experience and familiarity in wor...  \n",
       "131  Address machine learning problems around recom...  \n",
       "132  Provide data modeling, mining, pattern analysi...  \n",
       "133  Competitive salary, health insurance, and reti...  \n",
       "134  Has experience working in data science and mac...  \n",
       "135  We’re using rich customer insights, advanced t...  \n",
       "136  Job Description: Create an ensemble architectu...  \n",
       "137  Collaborate and consult with data scientists a...  \n",
       "138  Extracting and manipulating data from cloud da...  \n",
       "139  Integrates subject matter and industry experti...  "
      ]
     },
     "execution_count": 45,
     "metadata": {},
     "output_type": "execute_result"
    }
   ],
   "source": [
    "#Create df with all data and write to csv\n",
    "df = pd.DataFrame(list(zip(post_url, job_title, company, city, state, date_added, salaryrange, abstract)),\n",
    "                 columns = ['post_url', 'job_title', 'company', 'city', 'state', 'date_added', 'salary_range', 'abstract'])\n",
    "df.tail(15)"
   ]
  },
  {
   "cell_type": "code",
   "execution_count": 50,
   "metadata": {},
   "outputs": [],
   "source": [
    "df.to_csv(r'../Resources/initial.csv', index=False)"
   ]
  }
 ],
 "metadata": {
  "kernelspec": {
   "display_name": "Python 3",
   "language": "python",
   "name": "python3"
  },
  "language_info": {
   "codemirror_mode": {
    "name": "ipython",
    "version": 3
   },
   "file_extension": ".py",
   "mimetype": "text/x-python",
   "name": "python",
   "nbconvert_exporter": "python",
   "pygments_lexer": "ipython3",
   "version": "3.7.4"
  }
 },
 "nbformat": 4,
 "nbformat_minor": 2
}
