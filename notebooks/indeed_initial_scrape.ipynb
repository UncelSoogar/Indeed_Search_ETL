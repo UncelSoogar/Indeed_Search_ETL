{
 "cells": [
  {
   "cell_type": "code",
   "execution_count": 124,
   "metadata": {},
   "outputs": [],
   "source": [
    "#Dependencies\n",
    "import pandas as pd\n",
    "from datetime import datetime, timedelta\n",
    "from bs4 import BeautifulSoup\n",
    "import requests\n",
    "from splinter import Browser"
   ]
  },
  {
   "cell_type": "code",
   "execution_count": 11,
   "metadata": {},
   "outputs": [],
   "source": [
    "#Initialize browser\n",
    "#Change chromedriver path when uploading to server\n",
    "\n",
    "executable_path = {'executable_path': r\"C:\\Users\\slapp\\Desktop\\Misc_class\\chromedriver.exe\"}\n",
    "browser = Browser('chrome', **executable_path, headless=False)\n"
   ]
  },
  {
   "cell_type": "code",
   "execution_count": 12,
   "metadata": {},
   "outputs": [],
   "source": [
    "#define initial url and direct browser\n",
    "url = 'https://www.indeed.com/jobs?q=Data+Scientist&explvl=entry_level&fromage=3'\n",
    "browser.visit(url)"
   ]
  },
  {
   "cell_type": "code",
   "execution_count": 7,
   "metadata": {},
   "outputs": [],
   "source": [
    "#Make some soup\n",
    "html = browser.html\n",
    "soup = BeautifulSoup(html, 'lxml')"
   ]
  },
  {
   "cell_type": "code",
   "execution_count": 13,
   "metadata": {},
   "outputs": [],
   "source": [
    "#Scrap all postings on page into a list. Run through loop to click on next page\n",
    "postings = soup.find_all( class_= 'jobsearch-SerpJobCard')"
   ]
  },
  {
   "cell_type": "code",
   "execution_count": 16,
   "metadata": {},
   "outputs": [
    {
     "data": {
      "text/plain": [
       "<div class=\"jobsearch-SerpJobCard unifiedRow row result clickcard\" data-ci=\"350551151\" data-empn=\"4014643344856247\" data-jk=\"73c01b3b82193108\" id=\"pj_73c01b3b82193108\">\n",
       "<style>\n",
       ".jobcard_logo{margin:6px 0}.jobcard_logo img{width:auto;max-width:80px;max-height:30px}\n",
       "</style>\n",
       "<h2 class=\"title\">\n",
       "<a class=\"jobtitle turnstileLink\" data-tn-element=\"jobTitle\" href=\"/pagead/clk?mo=r&amp;ad=-6NYlbfkN0De9TWE4UUmup4W_MxodPnJDMB17E76eLaHvHXIOZ-Jlb186R68ROXsMo7aDXDfsoVEgE-upeW6I6w4r4b2Xc3oXlH5pykDNMkhvqC2_YL_JcOnhF97E6nEOSl4jGVnAho5ApBF6P2oLMV9QqFpkTjOBU-351Rugt7LLBzC4x_D92qNRmi9yL2Grh6TjSdddzNv1MhrTekGIwA9e4wu1rAICCg-INcpB6gjwgVqd61jzwt75XVSdbKsJqaRo7K-5sd3TNrkex3IQd_BJQOKgoTX-oGxKdWYKNTbDRb7_YQntjOWh7FRV-un_iJB_wbdRxAfChYvflTohSnz_haoP6u5lQgoEsy122ARP6n9W0UAKj3AAABsiaaB3hJmbx9vkKtRdbcnZcsKh7i9UX67HJ_wIwFuAVKJyOyoXuoK6e9UWWljQgMP6x0Oyx16j1qZDzUZafPEu8ETrQ==&amp;p=0&amp;fvj=1&amp;vjs=3\" id=\"sja0\" onclick=\"setRefineByCookie(['explvl']); sjoc('sja0', 1); convCtr('SJ'); rclk(this,jobmap[0],true,1);\" onmousedown=\"sjomd('sja0'); clk('sja0'); rclk(this,jobmap[0],1);\" rel=\"noopener nofollow\" target=\"_blank\" title=\"Backend Developer/Data Scientist\">\n",
       "Backend Developer/<b>Data</b> <b>Scientist</b></a>\n",
       "<span class=\"new\">new</span></h2>\n",
       "<div class=\"sjcl\">\n",
       "<div>\n",
       "<span class=\"company\">\n",
       "Double Chain, Inc</span>\n",
       "</div>\n",
       "<div class=\"recJobLoc\" data-rc-loc=\"Chino, CA\" id=\"recJobLoc_73c01b3b82193108\" style=\"display: none\"></div>\n",
       "<div class=\"location accessible-contrast-color-location\">Chino, CA 91710</div>\n",
       "<span class=\"remote-bullet\">•</span>\n",
       "<span class=\"remote\">Remote work available</span>\n",
       "</div>\n",
       "<div class=\"salarySnippet holisticSalary\">\n",
       "<span class=\"salary no-wrap\">\n",
       "<span class=\"salaryText\">\n",
       "$40,000 - $80,000 a year</span>\n",
       "</span>\n",
       "</div>\n",
       "<div class=\"jobCardReqContainer\"><div class=\"jobCardReqHeader\">Requirements</div><div class=\"jobCardReqList\"><div class=\"jobCardReqItem\">Bachelor's</div></div></div><table class=\"jobCardShelfContainer\"><tbody><tr class=\"jobCardShelf\"><td class=\"jobCardShelfItem indeedApply\"><span class=\"jobCardShelfIcon\"><svg fill=\"none\" height=\"16\" viewbox=\"0 0 20 20\" width=\"16\"><rect fill=\"#FF5A1F\" height=\"20\" rx=\"10\" width=\"20\"></rect><path clip-rule=\"evenodd\" d=\"M15.3125 4.0625L10.8125 15.3125L7.99999 11.375L15.3125 4.0625ZM7.604 12.7576L6.875 15.3125L8.567 14.1054L7.604 12.7576ZM7.20463 10.5796L12.419 5.36525L4.0625 9.125L6.9875 10.7968L7.20463 10.5796Z\" fill=\"white\" fill-rule=\"evenodd\"></path></svg></span><span class=\"iaLabel iaIconActive\">Easily apply</span></td></tr></tbody></table><div class=\"summary\">\n",
       "<ul style=\"list-style-type:circle;margin-top: 0px;margin-bottom: 0px;padding-left:20px;\">\n",
       "<li style=\"margin-bottom:0px;\">Experience with complex <b>data</b> problems and an interest in machine learning and artificial intelligence.</li>\n",
       "<li>Constantly look for improvements in tools, <b>data</b> sources,…</li>\n",
       "</ul></div>\n",
       "<div class=\"jobsearch-SerpJobCard-footer\">\n",
       "<div class=\"jobsearch-SerpJobCard-footerActions\">\n",
       "<div class=\"result-link-bar-container\">\n",
       "<div class=\"result-link-bar\"><span class=\"date\">4 days ago</span><span class=\"tt_set\" id=\"tt_set_0\"><span class=\"result-link-bar-separator\">·</span><a class=\"sl resultLink save-job-link\" href=\"#\" id=\"sj_73c01b3b82193108\" onclick=\"changeJobState('73c01b3b82193108', 'save', 'linkbar', true, ''); return false;\" title=\"Save this job to my.indeed\">Save job</a></span><div class=\"edit_note_content\" id=\"editsaved2_73c01b3b82193108\" style=\"display:none;\"></div><script>if (!window['sj_result_73c01b3b82193108']) {window['sj_result_73c01b3b82193108'] = {};}window['sj_result_73c01b3b82193108']['showSource'] = false; window['sj_result_73c01b3b82193108']['source'] = \"Indeed\"; window['sj_result_73c01b3b82193108']['loggedIn'] = false; window['sj_result_73c01b3b82193108']['showMyJobsLinks'] = false;window['sj_result_73c01b3b82193108']['undoAction'] = \"unsave\";window['sj_result_73c01b3b82193108']['relativeJobAge'] = \"4 days ago\";window['sj_result_73c01b3b82193108']['jobKey'] = \"73c01b3b82193108\"; window['sj_result_73c01b3b82193108']['myIndeedAvailable'] = true; window['sj_result_73c01b3b82193108']['showMoreActionsLink'] = window['sj_result_73c01b3b82193108']['showMoreActionsLink'] || false; window['sj_result_73c01b3b82193108']['resultNumber'] = 0; window['sj_result_73c01b3b82193108']['jobStateChangedToSaved'] = false; window['sj_result_73c01b3b82193108']['searchState'] = \"q=Data Scientist&amp;fromage=3%2F\"; window['sj_result_73c01b3b82193108']['basicPermaLink'] = \"https://www.indeed.com\"; window['sj_result_73c01b3b82193108']['saveJobFailed'] = false; window['sj_result_73c01b3b82193108']['removeJobFailed'] = false; window['sj_result_73c01b3b82193108']['requestPending'] = false; window['sj_result_73c01b3b82193108']['notesEnabled'] = false; window['sj_result_73c01b3b82193108']['currentPage'] = \"serp\"; window['sj_result_73c01b3b82193108']['sponsored'] = true;window['sj_result_73c01b3b82193108']['reportJobButtonEnabled'] = false; window['sj_result_73c01b3b82193108']['showMyJobsHired'] = false; window['sj_result_73c01b3b82193108']['showSaveForSponsored'] = true; window['sj_result_73c01b3b82193108']['showJobAge'] = true; window['sj_result_73c01b3b82193108']['showHolisticCard'] = true; window['sj_result_73c01b3b82193108']['showDislike'] = false; window['sj_result_73c01b3b82193108']['showKebab'] = false;</script></div></div>\n",
       "</div>\n",
       "</div>\n",
       "<div class=\"tab-container\">\n",
       "<div class=\"sign-in-container result-tab\"></div>\n",
       "<div class=\"tellafriend-container result-tab email_job_content\"></div>\n",
       "</div>\n",
       "</div>"
      ]
     },
     "execution_count": 16,
     "metadata": {},
     "output_type": "execute_result"
    }
   ],
   "source": [
    "postings[0]"
   ]
  },
  {
   "cell_type": "code",
   "execution_count": 79,
   "metadata": {},
   "outputs": [
    {
     "data": {
      "text/plain": [
       "17"
      ]
     },
     "execution_count": 79,
     "metadata": {},
     "output_type": "execute_result"
    }
   ],
   "source": [
    "len(postings)"
   ]
  },
  {
   "cell_type": "code",
   "execution_count": 37,
   "metadata": {},
   "outputs": [
    {
     "data": {
      "text/plain": [
       "'https://www.indeed.com/pagead/clk?mo=r&ad=-6NYlbfkN0De9TWE4UUmup4W_MxodPnJDMB17E76eLaHvHXIOZ-Jlb186R68ROXsMo7aDXDfsoVEgE-upeW6I6w4r4b2Xc3oXlH5pykDNMkhvqC2_YL_JcOnhF97E6nEOSl4jGVnAho5ApBF6P2oLMV9QqFpkTjOBU-351Rugt7LLBzC4x_D92qNRmi9yL2Grh6TjSdddzNv1MhrTekGIwA9e4wu1rAICCg-INcpB6gjwgVqd61jzwt75XVSdbKsJqaRo7K-5sd3TNrkex3IQd_BJQOKgoTX-oGxKdWYKNTbDRb7_YQntjOWh7FRV-un_iJB_wbdRxAfChYvflTohSnz_haoP6u5lQgoEsy122ARP6n9W0UAKj3AAABsiaaB3hJmbx9vkKtRdbcnZcsKh7i9UX67HJ_wIwFuAVKJyOyoXuoK6e9UWWljQgMP6x0Oyx16j1qZDzUZafPEu8ETrQ==&p=0&fvj=1&vjs=3'"
      ]
     },
     "execution_count": 37,
     "metadata": {},
     "output_type": "execute_result"
    }
   ],
   "source": [
    "#Scrape url and add domaine\n",
    "f\"https://www.indeed.com{postings[0].find('h2').find(class_ = 'jobtitle')['href']}\"\n"
   ]
  },
  {
   "cell_type": "code",
   "execution_count": 38,
   "metadata": {},
   "outputs": [
    {
     "data": {
      "text/plain": [
       "'Backend Developer/Data Scientist'"
      ]
     },
     "execution_count": 38,
     "metadata": {},
     "output_type": "execute_result"
    }
   ],
   "source": [
    "#Scrape job title\n",
    "postings[0].find('h2').find(class_ = 'jobtitle').text.replace('\\n', '')\n"
   ]
  },
  {
   "cell_type": "code",
   "execution_count": 39,
   "metadata": {},
   "outputs": [
    {
     "data": {
      "text/plain": [
       "'Double Chain, Inc'"
      ]
     },
     "execution_count": 39,
     "metadata": {},
     "output_type": "execute_result"
    }
   ],
   "source": [
    "#scrape company name\n",
    "postings[0].find(class_ = 'company').text.replace('\\n', '')"
   ]
  },
  {
   "cell_type": "code",
   "execution_count": 91,
   "metadata": {},
   "outputs": [
    {
     "data": {
      "text/plain": [
       "'Chino, CA'"
      ]
     },
     "execution_count": 91,
     "metadata": {},
     "output_type": "execute_result"
    }
   ],
   "source": [
    "#scrape location (split into city and state later)\n",
    "postings[0].find(class_ = 'recJobLoc')['data-rc-loc']"
   ]
  },
  {
   "cell_type": "code",
   "execution_count": null,
   "metadata": {},
   "outputs": [],
   "source": [
    "#splitting location into city and state. try except to include remote work\n",
    "cities = []\n",
    "states = []\n",
    "for x in range(0, len(location)):\n",
    "    citystate = location[x].split(', ')\n",
    "    cities.append(citystate[0])\n",
    "    try:\n",
    "        states.append(citystate[1])\n",
    "    except IndexError:\n",
    "        states.append(citystate[0])\n",
    "    #print(cities[x] + states[x])"
   ]
  },
  {
   "cell_type": "code",
   "execution_count": 41,
   "metadata": {},
   "outputs": [
    {
     "data": {
      "text/plain": [
       "'4 days ago'"
      ]
     },
     "execution_count": 41,
     "metadata": {},
     "output_type": "execute_result"
    }
   ],
   "source": [
    "#scrape date added (current day - \"days posted ago\")\n",
    "postings[0].find(class_='date').text"
   ]
  },
  {
   "cell_type": "code",
   "execution_count": 121,
   "metadata": {},
   "outputs": [],
   "source": [
    "#Convert result to int\n",
    "testdate = int(postings[0].find(class_='date').text.split(' ')[0])"
   ]
  },
  {
   "cell_type": "code",
   "execution_count": 126,
   "metadata": {},
   "outputs": [
    {
     "data": {
      "text/plain": [
       "datetime.datetime(2020, 6, 18, 16, 12, 20, 979278)"
      ]
     },
     "execution_count": 126,
     "metadata": {},
     "output_type": "execute_result"
    }
   ],
   "source": [
    "#subtract from current date w/ date time\n",
    "d = datetime.today() - timedelta(days=testdate)\n",
    "d"
   ]
  },
  {
   "cell_type": "code",
   "execution_count": 46,
   "metadata": {},
   "outputs": [
    {
     "data": {
      "text/plain": [
       "['NaN']"
      ]
     },
     "execution_count": 46,
     "metadata": {},
     "output_type": "execute_result"
    }
   ],
   "source": [
    "#scrape salary, add null if not included\n",
    "salaryrange = []\n",
    "try:\n",
    "    salaryrange.append(postings[1].find(class_ = 'salaryText').text.replace('\\n', ''))\n",
    "except AttributeError:\n",
    "    salaryrange.append('NaN')\n",
    "salaryrange"
   ]
  },
  {
   "cell_type": "code",
   "execution_count": 97,
   "metadata": {},
   "outputs": [
    {
     "data": {
      "text/plain": [
       "[<li style=\"margin-bottom:0px;\">Experience with complex <b>data</b> problems and an interest in machine learning and artificial intelligence.</li>,\n",
       " <li>Constantly look for improvements in tools, <b>data</b> sources,…</li>]"
      ]
     },
     "execution_count": 97,
     "metadata": {},
     "output_type": "execute_result"
    }
   ],
   "source": [
    "#scrape job abstract\n",
    "postings[0].find(class_ = 'summary').find_all('li')"
   ]
  },
  {
   "cell_type": "code",
   "execution_count": 59,
   "metadata": {},
   "outputs": [
    {
     "data": {
      "text/plain": [
       "[<li style=\"margin-bottom:0px;\">Experience with complex <b>data</b> problems and an interest in machine learning and artificial intelligence.</li>,\n",
       " <li>Constantly look for improvements in tools, <b>data</b> sources,…</li>]"
      ]
     },
     "execution_count": 59,
     "metadata": {},
     "output_type": "execute_result"
    }
   ],
   "source": [
    "postings[0].find(class_ = 'summary').find_all('li')"
   ]
  },
  {
   "cell_type": "code",
   "execution_count": 129,
   "metadata": {},
   "outputs": [],
   "source": [
    "#Collect all above data for each entry with a loop\n",
    "post_url = []\n",
    "job_title = []\n",
    "company = [] \n",
    "city = []\n",
    "state = []\n",
    "date_added = []\n",
    "salaryrange = []\n",
    "\n",
    "        \n",
    "for x in range(0, len(postings)):\n",
    "    post_url.append(f\"https://www.indeed.com{postings[x].find('h2').find(class_ = 'jobtitle')['href']}\")\n",
    "    job_title.append(postings[x].find('h2').find(class_ = 'jobtitle').text.replace('\\n', ''))\n",
    "    company.append(postings[x].find(class_ = 'company').text.replace('\\n', ''))\n",
    "    location = postings[x].find(class_ = 'recJobLoc')['data-rc-loc'].split(', ')\n",
    "    city.append(location[0])\n",
    "    try:\n",
    "        state.append(location[1])\n",
    "    except IndexError:\n",
    "        state.append(location[0])\n",
    "    temp_date = int(postings[0].find(class_='date').text.split(' ')[0])\n",
    "    date_added.append(datetime.today() - timedelta(days=testdate))\n",
    "    try:\n",
    "        salaryrange.append(postings[x].find(class_ = 'salaryText').text.replace('\\n', ''))\n",
    "    except AttributeError:\n",
    "        salaryrange.append('NaN')"
   ]
  },
  {
   "cell_type": "code",
   "execution_count": 131,
   "metadata": {},
   "outputs": [
    {
     "data": {
      "text/plain": [
       "['CA',\n",
       " 'VA',\n",
       " 'CA',\n",
       " 'TX',\n",
       " 'CO',\n",
       " 'TX',\n",
       " 'TX',\n",
       " 'Remote',\n",
       " 'TX',\n",
       " 'Remote',\n",
       " 'Remote',\n",
       " 'TX',\n",
       " 'CA',\n",
       " 'NJ',\n",
       " 'CA',\n",
       " 'VA',\n",
       " 'TX']"
      ]
     },
     "execution_count": 131,
     "metadata": {},
     "output_type": "execute_result"
    }
   ],
   "source": [
    "state"
   ]
  },
  {
   "cell_type": "code",
   "execution_count": null,
   "metadata": {},
   "outputs": [],
   "source": []
  },
  {
   "cell_type": "code",
   "execution_count": null,
   "metadata": {},
   "outputs": [],
   "source": [
    "#loop through pages"
   ]
  }
 ],
 "metadata": {
  "kernelspec": {
   "display_name": "Python 3",
   "language": "python",
   "name": "python3"
  },
  "language_info": {
   "codemirror_mode": {
    "name": "ipython",
    "version": 3
   },
   "file_extension": ".py",
   "mimetype": "text/x-python",
   "name": "python",
   "nbconvert_exporter": "python",
   "pygments_lexer": "ipython3",
   "version": "3.7.4"
  }
 },
 "nbformat": 4,
 "nbformat_minor": 2
}
