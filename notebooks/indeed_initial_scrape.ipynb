{
 "cells": [
  {
   "cell_type": "code",
   "execution_count": 1,
   "metadata": {},
   "outputs": [],
   "source": [
    "#Dependencies\n",
    "import pandas as pd\n",
    "from datetime import datetime, timedelta\n",
    "from bs4 import BeautifulSoup\n",
    "import requests\n",
    "from splinter import Browser"
   ]
  },
  {
   "cell_type": "code",
   "execution_count": 2,
   "metadata": {},
   "outputs": [],
   "source": [
    "#Initialize browser\n",
    "#Change chromedriver path when uploading to server\n",
    "\n",
    "executable_path = {'executable_path': r\"C:\\Users\\slapp\\Desktop\\Misc_class\\chromedriver.exe\"}\n",
    "browser = Browser('chrome', **executable_path, headless=False)\n"
   ]
  },
  {
   "cell_type": "code",
   "execution_count": 3,
   "metadata": {},
   "outputs": [],
   "source": [
    "#define initial url and direct browser\n",
    "url = 'https://www.indeed.com/jobs?q=Data+Scientist&explvl=entry_level&fromage=3'\n"
   ]
  },
  {
   "cell_type": "code",
   "execution_count": 4,
   "metadata": {},
   "outputs": [],
   "source": [
    "browser.visit(url)"
   ]
  },
  {
   "cell_type": "code",
   "execution_count": 5,
   "metadata": {},
   "outputs": [],
   "source": [
    "#Make some soup\n",
    "html = browser.html\n",
    "soup = BeautifulSoup(html, 'lxml')\n",
    "browser.quit()"
   ]
  },
  {
   "cell_type": "code",
   "execution_count": 6,
   "metadata": {},
   "outputs": [],
   "source": [
    "#Scrap all postings on page into a list. Run through loop to click on next page\n",
    "postings = soup.find_all( class_= 'jobsearch-SerpJobCard')"
   ]
  },
  {
   "cell_type": "code",
   "execution_count": 7,
   "metadata": {},
   "outputs": [
    {
     "data": {
      "text/plain": [
       "<div class=\"jobsearch-SerpJobCard unifiedRow row result clickcard\" data-ci=\"350917459\" data-empn=\"6281437093694551\" data-jk=\"992a4f3b6125f8ec\" id=\"pj_992a4f3b6125f8ec\">\n",
       "<style>\n",
       ".jobcard_logo{margin:6px 0}.jobcard_logo img{width:auto;max-width:80px;max-height:30px}\n",
       "</style>\n",
       "<div class=\"jobcard_logo\">\n",
       "<a href=\"/cmp/IT-Partners,inc\" onmousedown=\"this.href = appendParamsOnce(this.href, 'tk=1ebfe74683aci000&amp;campaignid=femp&amp;from=femp');\" rel=\"noopener\" target=\"_blank\">\n",
       "<img alt=\"IT Partners,Inc\" src=\"https://d2q79iu7y748jz.cloudfront.net/s/_logo/888f6ecf0496632573fd684426fafd90\"/>\n",
       "</a>\n",
       "</div>\n",
       "<h2 class=\"title\">\n",
       "<a class=\"jobtitle turnstileLink\" data-tn-element=\"jobTitle\" href=\"/pagead/clk?mo=r&amp;ad=-6NYlbfkN0ApfOu4Ek3LFcwJt5wzewEn0x2OMPseiW0RcmhgCc-1KgKXzvd4tCNB2UpaGIfi68ZaT0243btKe4na-e8GDtn9bkBRGY0EBMCUfc2YXaGD4rjuXLtZWt_nEGcaazFOMeEQqzQRa14bj4WTBx1Z89oJ5Ca1Tn5GqEc5RvZ-V_9dNrnAy7ID-40Jr7zb-d50TlFy_6lnw2-AEFZgsd6JRRItiGNvNhmKok8fVORMSSCuRD99theI-TKQQNgUXDAwwvn_3mFW7TOQhoIr-ZKTECtXhq-cpLF065qSjgw6hZNDRQb_-YMAnkUCEDR8ab3IXSR_AZbUoC_rPSC798MjeNK3Q83Z7bDGsouJ_Hqx4-jU3P4_fAIWQGdHWEom9---jNmX9NEFHg-DPiNpMAtnlSFkLaX6kQ1Bfrk=&amp;p=0&amp;fvj=0&amp;vjs=3\" id=\"sja0\" onclick=\"setRefineByCookie(['explvl']); sjoc('sja0', 0); convCtr('SJ'); rclk(this,jobmap[0],true,0);\" onmousedown=\"sjomd('sja0'); clk('sja0'); rclk(this,jobmap[0],0);\" rel=\"noopener nofollow\" target=\"_blank\" title=\"Data Scientist\">\n",
       "<b>Data</b> <b>Scientist</b></a>\n",
       "<span class=\"new\">new</span></h2>\n",
       "<div class=\"sjcl\">\n",
       "<div>\n",
       "<span class=\"company\">\n",
       "IT Partners,Inc</span>\n",
       "</div>\n",
       "<div class=\"recJobLoc\" data-rc-loc=\"Arlington, WA\" id=\"recJobLoc_992a4f3b6125f8ec\" style=\"display: none\"></div>\n",
       "<div class=\"location accessible-contrast-color-location\">Arlington, WA</div>\n",
       "</div>\n",
       "<table class=\"jobCardShelfContainer\"><tbody><tr class=\"jobCardShelf\"><td class=\"jobCardShelfItem indeedApply\"><span class=\"jobCardShelfIcon\"><svg fill=\"none\" height=\"16\" viewbox=\"0 0 20 20\" width=\"16\"><rect fill=\"#FF5A1F\" height=\"20\" rx=\"10\" width=\"20\"></rect><path clip-rule=\"evenodd\" d=\"M15.3125 4.0625L10.8125 15.3125L7.99999 11.375L15.3125 4.0625ZM7.604 12.7576L6.875 15.3125L8.567 14.1054L7.604 12.7576ZM7.20463 10.5796L12.419 5.36525L4.0625 9.125L6.9875 10.7968L7.20463 10.5796Z\" fill=\"white\" fill-rule=\"evenodd\"></path></svg></span><span class=\"iaLabel iaIconActive\">Easily apply</span></td></tr></tbody></table><div class=\"summary\">\n",
       "<ul style=\"list-style-type:circle;margin-top: 0px;margin-bottom: 0px;padding-left:20px;\">\n",
       "<li>In your role you will work with various teams to identify, manage, research, develop, and present <b>data</b> analytics projects and solutions.</li>\n",
       "</ul></div>\n",
       "<div class=\"jobsearch-SerpJobCard-footer\">\n",
       "<div class=\"jobsearch-SerpJobCard-footerActions\">\n",
       "<div class=\"result-link-bar-container\">\n",
       "<div class=\"result-link-bar\"><span class=\"date\">3 days ago</span><span class=\"tt_set\" id=\"tt_set_0\"><span class=\"result-link-bar-separator\">·</span><a class=\"sl resultLink save-job-link\" href=\"#\" id=\"sj_992a4f3b6125f8ec\" onclick=\"changeJobState('992a4f3b6125f8ec', 'save', 'linkbar', true, ''); return false;\" title=\"Save this job to my.indeed\">Save job</a></span><div class=\"edit_note_content\" id=\"editsaved2_992a4f3b6125f8ec\" style=\"display:none;\"></div><script>if (!window['sj_result_992a4f3b6125f8ec']) {window['sj_result_992a4f3b6125f8ec'] = {};}window['sj_result_992a4f3b6125f8ec']['showSource'] = false; window['sj_result_992a4f3b6125f8ec']['source'] = \"IT Partners,Inc\"; window['sj_result_992a4f3b6125f8ec']['loggedIn'] = false; window['sj_result_992a4f3b6125f8ec']['showMyJobsLinks'] = false;window['sj_result_992a4f3b6125f8ec']['undoAction'] = \"unsave\";window['sj_result_992a4f3b6125f8ec']['relativeJobAge'] = \"3 days ago\";window['sj_result_992a4f3b6125f8ec']['jobKey'] = \"992a4f3b6125f8ec\"; window['sj_result_992a4f3b6125f8ec']['myIndeedAvailable'] = true; window['sj_result_992a4f3b6125f8ec']['showMoreActionsLink'] = window['sj_result_992a4f3b6125f8ec']['showMoreActionsLink'] || false; window['sj_result_992a4f3b6125f8ec']['resultNumber'] = 0; window['sj_result_992a4f3b6125f8ec']['jobStateChangedToSaved'] = false; window['sj_result_992a4f3b6125f8ec']['searchState'] = \"q=Data Scientist&amp;fromage=3\"; window['sj_result_992a4f3b6125f8ec']['basicPermaLink'] = \"https://www.indeed.com\"; window['sj_result_992a4f3b6125f8ec']['saveJobFailed'] = false; window['sj_result_992a4f3b6125f8ec']['removeJobFailed'] = false; window['sj_result_992a4f3b6125f8ec']['requestPending'] = false; window['sj_result_992a4f3b6125f8ec']['notesEnabled'] = false; window['sj_result_992a4f3b6125f8ec']['currentPage'] = \"serp\"; window['sj_result_992a4f3b6125f8ec']['sponsored'] = true;window['sj_result_992a4f3b6125f8ec']['reportJobButtonEnabled'] = false; window['sj_result_992a4f3b6125f8ec']['showMyJobsHired'] = false; window['sj_result_992a4f3b6125f8ec']['showSaveForSponsored'] = true; window['sj_result_992a4f3b6125f8ec']['showJobAge'] = true; window['sj_result_992a4f3b6125f8ec']['showHolisticCard'] = true; window['sj_result_992a4f3b6125f8ec']['showDislike'] = false; window['sj_result_992a4f3b6125f8ec']['showKebab'] = false;</script></div></div>\n",
       "</div>\n",
       "</div>\n",
       "<div class=\"tab-container\">\n",
       "<div class=\"sign-in-container result-tab\"></div>\n",
       "<div class=\"tellafriend-container result-tab email_job_content\"></div>\n",
       "</div>\n",
       "</div>"
      ]
     },
     "execution_count": 7,
     "metadata": {},
     "output_type": "execute_result"
    }
   ],
   "source": [
    "postings[0]"
   ]
  },
  {
   "cell_type": "code",
   "execution_count": 8,
   "metadata": {},
   "outputs": [
    {
     "data": {
      "text/plain": [
       "16"
      ]
     },
     "execution_count": 8,
     "metadata": {},
     "output_type": "execute_result"
    }
   ],
   "source": [
    "len(postings)"
   ]
  },
  {
   "cell_type": "code",
   "execution_count": 9,
   "metadata": {},
   "outputs": [
    {
     "data": {
      "text/plain": [
       "'https://www.indeed.com/pagead/clk?mo=r&ad=-6NYlbfkN0ApfOu4Ek3LFcwJt5wzewEn0x2OMPseiW0RcmhgCc-1KgKXzvd4tCNB2UpaGIfi68ZaT0243btKe4na-e8GDtn9bkBRGY0EBMCUfc2YXaGD4rjuXLtZWt_nEGcaazFOMeEQqzQRa14bj4WTBx1Z89oJ5Ca1Tn5GqEc5RvZ-V_9dNrnAy7ID-40Jr7zb-d50TlFy_6lnw2-AEFZgsd6JRRItiGNvNhmKok8fVORMSSCuRD99theI-TKQQNgUXDAwwvn_3mFW7TOQhoIr-ZKTECtXhq-cpLF065qSjgw6hZNDRQb_-YMAnkUCEDR8ab3IXSR_AZbUoC_rPSC798MjeNK3Q83Z7bDGsouJ_Hqx4-jU3P4_fAIWQGdHWEom9---jNmX9NEFHg-DPiNpMAtnlSFkLaX6kQ1Bfrk=&p=0&fvj=0&vjs=3'"
      ]
     },
     "execution_count": 9,
     "metadata": {},
     "output_type": "execute_result"
    }
   ],
   "source": [
    "#Scrape url and add domaine\n",
    "f\"https://www.indeed.com{postings[0].find('h2').find(class_ = 'jobtitle')['href']}\"\n"
   ]
  },
  {
   "cell_type": "code",
   "execution_count": 10,
   "metadata": {},
   "outputs": [
    {
     "data": {
      "text/plain": [
       "'Data Scientist'"
      ]
     },
     "execution_count": 10,
     "metadata": {},
     "output_type": "execute_result"
    }
   ],
   "source": [
    "#Scrape job title\n",
    "postings[0].find('h2').find(class_ = 'jobtitle').text.replace('\\n', '')\n"
   ]
  },
  {
   "cell_type": "code",
   "execution_count": 11,
   "metadata": {},
   "outputs": [
    {
     "data": {
      "text/plain": [
       "'IT Partners,Inc'"
      ]
     },
     "execution_count": 11,
     "metadata": {},
     "output_type": "execute_result"
    }
   ],
   "source": [
    "#scrape company name\n",
    "postings[0].find(class_ = 'company').text.replace('\\n', '')"
   ]
  },
  {
   "cell_type": "code",
   "execution_count": 12,
   "metadata": {},
   "outputs": [],
   "source": [
    "#scrape location (split into city and state later)\n",
    "location = postings[0].find(class_ = 'recJobLoc')['data-rc-loc']"
   ]
  },
  {
   "cell_type": "code",
   "execution_count": 13,
   "metadata": {},
   "outputs": [],
   "source": [
    "#splitting location into city and state. try except to include remote work\n",
    "cities = []\n",
    "states = []\n",
    "for x in range(0, len(location)):\n",
    "    citystate = location[x].split(', ')\n",
    "    cities.append(citystate[0])\n",
    "    try:\n",
    "        states.append(citystate[1])\n",
    "    except IndexError:\n",
    "        states.append(citystate[0])\n",
    "    #print(cities[x] + states[x])"
   ]
  },
  {
   "cell_type": "code",
   "execution_count": 14,
   "metadata": {},
   "outputs": [
    {
     "data": {
      "text/plain": [
       "'3 days ago'"
      ]
     },
     "execution_count": 14,
     "metadata": {},
     "output_type": "execute_result"
    }
   ],
   "source": [
    "#scrape date added (current day - \"days posted ago\")\n",
    "postings[0].find(class_='date').text"
   ]
  },
  {
   "cell_type": "code",
   "execution_count": 15,
   "metadata": {},
   "outputs": [],
   "source": [
    "#Convert result to int\n",
    "try:\n",
    "    testdate = int(postings[0].find(class_='date').text.split(' ')[0])\n",
    "except ValueError:\n",
    "    testdate = 0"
   ]
  },
  {
   "cell_type": "code",
   "execution_count": 16,
   "metadata": {},
   "outputs": [
    {
     "data": {
      "text/plain": [
       "datetime.datetime(2020, 6, 19, 20, 56, 0, 381420)"
      ]
     },
     "execution_count": 16,
     "metadata": {},
     "output_type": "execute_result"
    }
   ],
   "source": [
    "#subtract from current date w/ date time\n",
    "d = datetime.today() - timedelta(days=testdate)\n",
    "d"
   ]
  },
  {
   "cell_type": "code",
   "execution_count": 17,
   "metadata": {},
   "outputs": [
    {
     "data": {
      "text/plain": [
       "['NaN']"
      ]
     },
     "execution_count": 17,
     "metadata": {},
     "output_type": "execute_result"
    }
   ],
   "source": [
    "#scrape salary, add null if not included\n",
    "salaryrange = []\n",
    "try:\n",
    "    salaryrange.append(postings[1].find(class_ = 'salaryText').text.replace('\\n', ''))\n",
    "except AttributeError:\n",
    "    salaryrange.append('NaN')\n",
    "salaryrange"
   ]
  },
  {
   "cell_type": "code",
   "execution_count": 18,
   "metadata": {},
   "outputs": [
    {
     "data": {
      "text/plain": [
       "[<li>In your role you will work with various teams to identify, manage, research, develop, and present <b>data</b> analytics projects and solutions.</li>]"
      ]
     },
     "execution_count": 18,
     "metadata": {},
     "output_type": "execute_result"
    }
   ],
   "source": [
    "#scrape job abstract\n",
    "postings[0].find(class_ = 'summary').find_all('li')"
   ]
  },
  {
   "cell_type": "code",
   "execution_count": 19,
   "metadata": {},
   "outputs": [
    {
     "data": {
      "text/plain": [
       "[<li>In your role you will work with various teams to identify, manage, research, develop, and present <b>data</b> analytics projects and solutions.</li>]"
      ]
     },
     "execution_count": 19,
     "metadata": {},
     "output_type": "execute_result"
    }
   ],
   "source": [
    "postings[0].find(class_ = 'summary').find_all('li')"
   ]
  },
  {
   "cell_type": "code",
   "execution_count": 20,
   "metadata": {},
   "outputs": [],
   "source": [
    "#Collect all above data for each entry with a loop\n",
    "post_url = []\n",
    "job_title = []\n",
    "company = [] \n",
    "city = []\n",
    "state = []\n",
    "date_added = []\n",
    "salaryrange = []\n",
    "\n",
    "        \n",
    "for x in range(0, len(postings)):\n",
    "    post_url.append(f\"https://www.indeed.com{postings[x].find('h2').find(class_ = 'jobtitle')['href']}\")\n",
    "    job_title.append(postings[x].find('h2').find(class_ = 'jobtitle').text.replace('\\n', ''))\n",
    "    company.append(postings[x].find(class_ = 'company').text.replace('\\n', ''))\n",
    "    location = postings[x].find(class_ = 'recJobLoc')['data-rc-loc'].split(', ')\n",
    "    city.append(location[0])\n",
    "    try:\n",
    "        state.append(location[1])\n",
    "    except IndexError:\n",
    "        state.append(location[0])\n",
    "    try:\n",
    "        temp_date = int(postings[x].find(class_='date').text.split(' ')[0])\n",
    "    except ValueError:\n",
    "        temp_date = 0\n",
    "    date_added.append(datetime.today() - timedelta(days=testdate))\n",
    "    try:\n",
    "        salaryrange.append(postings[x].find(class_ = 'salaryText').text.replace('\\n', ''))\n",
    "    except AttributeError:\n",
    "        salaryrange.append('NaN')"
   ]
  },
  {
   "cell_type": "code",
   "execution_count": 21,
   "metadata": {},
   "outputs": [
    {
     "data": {
      "text/plain": [
       "[datetime.datetime(2020, 6, 19, 20, 56, 0, 499085),\n",
       " datetime.datetime(2020, 6, 19, 20, 56, 0, 512051),\n",
       " datetime.datetime(2020, 6, 19, 20, 56, 0, 517038),\n",
       " datetime.datetime(2020, 6, 19, 20, 56, 0, 520030),\n",
       " datetime.datetime(2020, 6, 19, 20, 56, 0, 531011),\n",
       " datetime.datetime(2020, 6, 19, 20, 56, 0, 535990),\n",
       " datetime.datetime(2020, 6, 19, 20, 56, 0, 540978),\n",
       " datetime.datetime(2020, 6, 19, 20, 56, 0, 545961),\n",
       " datetime.datetime(2020, 6, 19, 20, 56, 0, 547954),\n",
       " datetime.datetime(2020, 6, 19, 20, 56, 0, 550945),\n",
       " datetime.datetime(2020, 6, 19, 20, 56, 0, 558929),\n",
       " datetime.datetime(2020, 6, 19, 20, 56, 0, 568900),\n",
       " datetime.datetime(2020, 6, 19, 20, 56, 0, 576878),\n",
       " datetime.datetime(2020, 6, 19, 20, 56, 0, 579874),\n",
       " datetime.datetime(2020, 6, 19, 20, 56, 0, 588852),\n",
       " datetime.datetime(2020, 6, 19, 20, 56, 0, 591843)]"
      ]
     },
     "execution_count": 21,
     "metadata": {},
     "output_type": "execute_result"
    }
   ],
   "source": [
    "date_added"
   ]
  },
  {
   "cell_type": "code",
   "execution_count": null,
   "metadata": {},
   "outputs": [],
   "source": []
  },
  {
   "cell_type": "code",
   "execution_count": 22,
   "metadata": {},
   "outputs": [],
   "source": [
    "#loop through pages"
   ]
  },
  {
   "cell_type": "code",
   "execution_count": 36,
   "metadata": {},
   "outputs": [],
   "source": [
    "base_url = 'https://www.indeed.com/jobs?q=Data+Scientist&explvl=entry_level&fromage=3&start='\n",
    "post_url = []\n",
    "job_title = []\n",
    "company = [] \n",
    "city = []\n",
    "state = []\n",
    "date_added = []\n",
    "salaryrange = []\n",
    "\n",
    "\n",
    "for x in range(0, 100, 10):\n",
    "    test_url = f\"{base_url}{x}\"\n",
    "    page = requests.get(test_url).content\n",
    "    soup = BeautifulSoup(page)\n",
    "    for x in range(0, len(postings)):\n",
    "        post_url.append(f\"https://www.indeed.com{postings[x].find('h2').find(class_ = 'jobtitle')['href']}\")\n",
    "        job_title.append(postings[x].find('h2').find(class_ = 'jobtitle').text.replace('\\n', ''))\n",
    "        company.append(postings[x].find(class_ = 'company').text.replace('\\n', ''))\n",
    "        location = postings[x].find(class_ = 'recJobLoc')['data-rc-loc'].split(', ')\n",
    "        city.append(location[0])\n",
    "        try:\n",
    "            state.append(location[1])\n",
    "        except IndexError:\n",
    "            state.append(location[0])\n",
    "        try:\n",
    "            temp_date = int(postings[x].find(class_='date').text.split(' ')[0])\n",
    "        except ValueError:\n",
    "            temp_date = 0\n",
    "        date_added.append(datetime.today() - timedelta(days=testdate))\n",
    "        try:\n",
    "            salaryrange.append(postings[x].find(class_ = 'salaryText').text.replace('\\n', ''))\n",
    "        except AttributeError:\n",
    "            salaryrange.append('NaN')\n",
    "\n"
   ]
  },
  {
   "cell_type": "code",
   "execution_count": 39,
   "metadata": {},
   "outputs": [
    {
     "data": {
      "text/plain": [
       "['NaN',\n",
       " 'NaN',\n",
       " '$90,000 - $100,000 a year',\n",
       " 'NaN',\n",
       " 'NaN',\n",
       " 'NaN',\n",
       " 'NaN',\n",
       " '$65 - $75 an hour',\n",
       " 'NaN',\n",
       " 'NaN',\n",
       " '$100,000 - $120,000 a year',\n",
       " 'NaN',\n",
       " 'NaN',\n",
       " 'NaN',\n",
       " '$250,000 - $375,000 a year',\n",
       " 'NaN',\n",
       " 'NaN',\n",
       " 'NaN',\n",
       " '$90,000 - $100,000 a year',\n",
       " 'NaN',\n",
       " 'NaN',\n",
       " 'NaN',\n",
       " 'NaN',\n",
       " '$65 - $75 an hour',\n",
       " 'NaN',\n",
       " 'NaN',\n",
       " '$100,000 - $120,000 a year',\n",
       " 'NaN',\n",
       " 'NaN',\n",
       " 'NaN',\n",
       " '$250,000 - $375,000 a year',\n",
       " 'NaN',\n",
       " 'NaN',\n",
       " 'NaN',\n",
       " '$90,000 - $100,000 a year',\n",
       " 'NaN',\n",
       " 'NaN',\n",
       " 'NaN',\n",
       " 'NaN',\n",
       " '$65 - $75 an hour',\n",
       " 'NaN',\n",
       " 'NaN',\n",
       " '$100,000 - $120,000 a year',\n",
       " 'NaN',\n",
       " 'NaN',\n",
       " 'NaN',\n",
       " '$250,000 - $375,000 a year',\n",
       " 'NaN',\n",
       " 'NaN',\n",
       " 'NaN',\n",
       " '$90,000 - $100,000 a year',\n",
       " 'NaN',\n",
       " 'NaN',\n",
       " 'NaN',\n",
       " 'NaN',\n",
       " '$65 - $75 an hour',\n",
       " 'NaN',\n",
       " 'NaN',\n",
       " '$100,000 - $120,000 a year',\n",
       " 'NaN',\n",
       " 'NaN',\n",
       " 'NaN',\n",
       " '$250,000 - $375,000 a year',\n",
       " 'NaN',\n",
       " 'NaN',\n",
       " 'NaN',\n",
       " '$90,000 - $100,000 a year',\n",
       " 'NaN',\n",
       " 'NaN',\n",
       " 'NaN',\n",
       " 'NaN',\n",
       " '$65 - $75 an hour',\n",
       " 'NaN',\n",
       " 'NaN',\n",
       " '$100,000 - $120,000 a year',\n",
       " 'NaN',\n",
       " 'NaN',\n",
       " 'NaN',\n",
       " '$250,000 - $375,000 a year',\n",
       " 'NaN',\n",
       " 'NaN',\n",
       " 'NaN',\n",
       " '$90,000 - $100,000 a year',\n",
       " 'NaN',\n",
       " 'NaN',\n",
       " 'NaN',\n",
       " 'NaN',\n",
       " '$65 - $75 an hour',\n",
       " 'NaN',\n",
       " 'NaN',\n",
       " '$100,000 - $120,000 a year',\n",
       " 'NaN',\n",
       " 'NaN',\n",
       " 'NaN',\n",
       " '$250,000 - $375,000 a year',\n",
       " 'NaN',\n",
       " 'NaN',\n",
       " 'NaN',\n",
       " '$90,000 - $100,000 a year',\n",
       " 'NaN',\n",
       " 'NaN',\n",
       " 'NaN',\n",
       " 'NaN',\n",
       " '$65 - $75 an hour',\n",
       " 'NaN',\n",
       " 'NaN',\n",
       " '$100,000 - $120,000 a year',\n",
       " 'NaN',\n",
       " 'NaN',\n",
       " 'NaN',\n",
       " '$250,000 - $375,000 a year',\n",
       " 'NaN',\n",
       " 'NaN',\n",
       " 'NaN',\n",
       " '$90,000 - $100,000 a year',\n",
       " 'NaN',\n",
       " 'NaN',\n",
       " 'NaN',\n",
       " 'NaN',\n",
       " '$65 - $75 an hour',\n",
       " 'NaN',\n",
       " 'NaN',\n",
       " '$100,000 - $120,000 a year',\n",
       " 'NaN',\n",
       " 'NaN',\n",
       " 'NaN',\n",
       " '$250,000 - $375,000 a year',\n",
       " 'NaN',\n",
       " 'NaN',\n",
       " 'NaN',\n",
       " '$90,000 - $100,000 a year',\n",
       " 'NaN',\n",
       " 'NaN',\n",
       " 'NaN',\n",
       " 'NaN',\n",
       " '$65 - $75 an hour',\n",
       " 'NaN',\n",
       " 'NaN',\n",
       " '$100,000 - $120,000 a year',\n",
       " 'NaN',\n",
       " 'NaN',\n",
       " 'NaN',\n",
       " '$250,000 - $375,000 a year',\n",
       " 'NaN',\n",
       " 'NaN',\n",
       " 'NaN',\n",
       " '$90,000 - $100,000 a year',\n",
       " 'NaN',\n",
       " 'NaN',\n",
       " 'NaN',\n",
       " 'NaN',\n",
       " '$65 - $75 an hour',\n",
       " 'NaN',\n",
       " 'NaN',\n",
       " '$100,000 - $120,000 a year',\n",
       " 'NaN',\n",
       " 'NaN',\n",
       " 'NaN',\n",
       " '$250,000 - $375,000 a year',\n",
       " 'NaN']"
      ]
     },
     "execution_count": 39,
     "metadata": {},
     "output_type": "execute_result"
    }
   ],
   "source": [
    "salaryrange"
   ]
  }
 ],
 "metadata": {
  "kernelspec": {
   "display_name": "Python 3",
   "language": "python",
   "name": "python3"
  },
  "language_info": {
   "codemirror_mode": {
    "name": "ipython",
    "version": 3
   },
   "file_extension": ".py",
   "mimetype": "text/x-python",
   "name": "python",
   "nbconvert_exporter": "python",
   "pygments_lexer": "ipython3",
   "version": "3.7.4"
  }
 },
 "nbformat": 4,
 "nbformat_minor": 2
}
